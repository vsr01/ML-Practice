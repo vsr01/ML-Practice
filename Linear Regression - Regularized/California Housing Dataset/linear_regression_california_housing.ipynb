{
 "cells": [
  {
   "cell_type": "code",
   "execution_count": 44,
   "id": "d0b5526f",
   "metadata": {},
   "outputs": [],
   "source": [
    "import pandas as pd\n",
    "import numpy as np\n",
    "import seaborn as sns\n",
    "import matplotlib.pyplot as plt\n",
    "from ydata_profiling import ProfileReport\n",
    "from autoviz.AutoViz_Class import AutoViz_Class"
   ]
  },
  {
   "cell_type": "code",
   "execution_count": 45,
   "id": "a10feb95",
   "metadata": {},
   "outputs": [],
   "source": [
    "df = pd.read_csv('housing.csv')"
   ]
  },
  {
   "cell_type": "code",
   "execution_count": 46,
   "id": "20ff1941",
   "metadata": {},
   "outputs": [],
   "source": [
    "# profile = ProfileReport(df,title='Profiling Report')\n",
    "# profile.to_file(\"Report.html\")"
   ]
  },
  {
   "cell_type": "code",
   "execution_count": 47,
   "id": "b4d60f85",
   "metadata": {},
   "outputs": [
    {
     "data": {
      "text/html": [
       "<div>\n",
       "<style scoped>\n",
       "    .dataframe tbody tr th:only-of-type {\n",
       "        vertical-align: middle;\n",
       "    }\n",
       "\n",
       "    .dataframe tbody tr th {\n",
       "        vertical-align: top;\n",
       "    }\n",
       "\n",
       "    .dataframe thead th {\n",
       "        text-align: right;\n",
       "    }\n",
       "</style>\n",
       "<table border=\"1\" class=\"dataframe\">\n",
       "  <thead>\n",
       "    <tr style=\"text-align: center;\">\n",
       "      <th></th>\n",
       "      <th>longitude</th>\n",
       "      <th>latitude</th>\n",
       "      <th>housing_median_age</th>\n",
       "      <th>total_rooms</th>\n",
       "      <th>total_bedrooms</th>\n",
       "      <th>population</th>\n",
       "      <th>households</th>\n",
       "      <th>median_income</th>\n",
       "      <th>median_house_value</th>\n",
       "      <th>ocean_proximity</th>\n",
       "    </tr>\n",
       "  </thead>\n",
       "  <tbody>\n",
       "    <tr>\n",
       "      <th>0</th>\n",
       "      <td>-122.23</td>\n",
       "      <td>37.88</td>\n",
       "      <td>41.0</td>\n",
       "      <td>880.0</td>\n",
       "      <td>129.0</td>\n",
       "      <td>322.0</td>\n",
       "      <td>126.0</td>\n",
       "      <td>8.3252</td>\n",
       "      <td>452600.0</td>\n",
       "      <td>NEAR BAY</td>\n",
       "    </tr>\n",
       "    <tr>\n",
       "      <th>1</th>\n",
       "      <td>-122.22</td>\n",
       "      <td>37.86</td>\n",
       "      <td>21.0</td>\n",
       "      <td>7099.0</td>\n",
       "      <td>1106.0</td>\n",
       "      <td>2401.0</td>\n",
       "      <td>1138.0</td>\n",
       "      <td>8.3014</td>\n",
       "      <td>358500.0</td>\n",
       "      <td>NEAR BAY</td>\n",
       "    </tr>\n",
       "    <tr>\n",
       "      <th>2</th>\n",
       "      <td>-122.24</td>\n",
       "      <td>37.85</td>\n",
       "      <td>52.0</td>\n",
       "      <td>1467.0</td>\n",
       "      <td>190.0</td>\n",
       "      <td>496.0</td>\n",
       "      <td>177.0</td>\n",
       "      <td>7.2574</td>\n",
       "      <td>352100.0</td>\n",
       "      <td>NEAR BAY</td>\n",
       "    </tr>\n",
       "    <tr>\n",
       "      <th>3</th>\n",
       "      <td>-122.25</td>\n",
       "      <td>37.85</td>\n",
       "      <td>52.0</td>\n",
       "      <td>1274.0</td>\n",
       "      <td>235.0</td>\n",
       "      <td>558.0</td>\n",
       "      <td>219.0</td>\n",
       "      <td>5.6431</td>\n",
       "      <td>341300.0</td>\n",
       "      <td>NEAR BAY</td>\n",
       "    </tr>\n",
       "    <tr>\n",
       "      <th>4</th>\n",
       "      <td>-122.25</td>\n",
       "      <td>37.85</td>\n",
       "      <td>52.0</td>\n",
       "      <td>1627.0</td>\n",
       "      <td>280.0</td>\n",
       "      <td>565.0</td>\n",
       "      <td>259.0</td>\n",
       "      <td>3.8462</td>\n",
       "      <td>342200.0</td>\n",
       "      <td>NEAR BAY</td>\n",
       "    </tr>\n",
       "  </tbody>\n",
       "</table>\n",
       "</div>"
      ],
      "text/plain": [
       "   longitude  latitude  housing_median_age  total_rooms  total_bedrooms  \\\n",
       "0  -122.23      37.88          41.0            880.0          129.0       \n",
       "1  -122.22      37.86          21.0           7099.0         1106.0       \n",
       "2  -122.24      37.85          52.0           1467.0          190.0       \n",
       "3  -122.25      37.85          52.0           1274.0          235.0       \n",
       "4  -122.25      37.85          52.0           1627.0          280.0       \n",
       "\n",
       "   population  households  median_income  median_house_value ocean_proximity  \n",
       "0     322.0       126.0       8.3252           452600.0          NEAR BAY     \n",
       "1    2401.0      1138.0       8.3014           358500.0          NEAR BAY     \n",
       "2     496.0       177.0       7.2574           352100.0          NEAR BAY     \n",
       "3     558.0       219.0       5.6431           341300.0          NEAR BAY     \n",
       "4     565.0       259.0       3.8462           342200.0          NEAR BAY     "
      ]
     },
     "execution_count": 47,
     "metadata": {},
     "output_type": "execute_result"
    }
   ],
   "source": [
    "df.head()"
   ]
  },
  {
   "cell_type": "code",
   "execution_count": 48,
   "id": "2e59b464",
   "metadata": {},
   "outputs": [],
   "source": [
    "# AV = AutoViz_Class().AutoViz(filename='',dfte=df,depVar='median_house_value')\n",
    "# %matplotlib inline"
   ]
  },
  {
   "cell_type": "code",
   "execution_count": 162,
   "id": "450f193d",
   "metadata": {},
   "outputs": [],
   "source": [
    "from sklearn.model_selection import train_test_split\n",
    "from sklearn.compose import ColumnTransformer,TransformedTargetRegressor\n",
    "from sklearn.pipeline import Pipeline\n",
    "from sklearn.metrics import root_mean_squared_error,r2_score\n",
    "from sklearn.preprocessing import OneHotEncoder,FunctionTransformer,StandardScaler,MinMaxScaler,PolynomialFeatures\n",
    "from sklearn.impute import SimpleImputer\n",
    "from sklearn.linear_model import LinearRegression\n",
    "from sklearn.linear_model import Ridge, Lasso, ElasticNet\n",
    "from sklearn.model_selection import GridSearchCV"
   ]
  },
  {
   "cell_type": "code",
   "execution_count": 50,
   "id": "0c145270",
   "metadata": {},
   "outputs": [],
   "source": [
    "def model_scoring(model,X_train,X_test,y_train,y_test):\n",
    "    y_pred = model.predict(X_test)\n",
    "    rmse = root_mean_squared_error(y_test,y_pred)\n",
    "    r2 = r2_score(y_test,y_pred)\n",
    "\n",
    "    print(f\"Test RMSE: {rmse:.2f}\")\n",
    "    print(f\"Test R² Score: {r2:.4f}\")\n",
    "\n",
    "    y_pred = model.predict(X_train)\n",
    "    rmse = root_mean_squared_error(y_train,y_pred)\n",
    "    r2 = r2_score(y_train,y_pred)\n",
    "\n",
    "    print(f\"\\nTrain RMSE: {rmse:.2f}\")\n",
    "    print(f\"Train R² Score: {r2:.4f}\")"
   ]
  },
  {
   "cell_type": "markdown",
   "id": "ef95afc6",
   "metadata": {},
   "source": [
    "#### Linear Regression - 1\n",
    "##### Imputing with Mean, Standard Scaling & Onehot encoding"
   ]
  },
  {
   "cell_type": "code",
   "execution_count": 51,
   "id": "d88a1a06",
   "metadata": {},
   "outputs": [],
   "source": [
    "def linear_1(data):\n",
    "    df = data.copy()\n",
    "    \n",
    "    target = 'median_house_value'\n",
    "    X = df.drop(columns=target)\n",
    "    y = df[target]\n",
    "\n",
    "    X_train,X_test,y_train,y_test = train_test_split(X,y,test_size=0.3,random_state=42)\n",
    "\n",
    "    numerical_features = df.select_dtypes(include=np.number).drop(columns=target).columns\n",
    "    categorical_features = df.select_dtypes(include='object').columns\n",
    "    \n",
    "    numerical_pipeline = Pipeline([\n",
    "        ('imputer',SimpleImputer(strategy='mean')),\n",
    "        ('scaler',StandardScaler())\n",
    "    ])\n",
    "\n",
    "    catergorical_pipeline = Pipeline([\n",
    "        ('encoder',OneHotEncoder(drop='first',sparse_output=False,handle_unknown='ignore'))\n",
    "    ])\n",
    "\n",
    "    preprocessor = ColumnTransformer([\n",
    "        ('num',numerical_pipeline,numerical_features),\n",
    "        ('cat',catergorical_pipeline,categorical_features)\n",
    "    ])\n",
    "\n",
    "    model = Pipeline([\n",
    "        ('preprocessor',preprocessor),\n",
    "        ('model',LinearRegression())\n",
    "    ])\n",
    "\n",
    "    model.fit(X_train,y_train)\n",
    "\n",
    "    model_scoring(model,X_train,X_test,y_train,y_test)"
   ]
  },
  {
   "cell_type": "code",
   "execution_count": 52,
   "id": "d6970732",
   "metadata": {},
   "outputs": [
    {
     "name": "stdout",
     "output_type": "stream",
     "text": [
      "Test RMSE: 68780.07\n",
      "Test R² Score: 0.6396\n",
      "\n",
      "Train RMSE: 68763.97\n",
      "Train R² Score: 0.6470\n"
     ]
    }
   ],
   "source": [
    "linear_1(df)"
   ]
  },
  {
   "cell_type": "markdown",
   "id": "12719895",
   "metadata": {},
   "source": [
    "#### Linear Regression - 2\n",
    "##### Imputing with Mean, Standard scaling, Log Transform, Category modification, Onehot encoding & New feature creation                                     \n"
   ]
  },
  {
   "cell_type": "code",
   "execution_count": null,
   "id": "b17e5843",
   "metadata": {},
   "outputs": [],
   "source": [
    "def linear_2(data):\n",
    "    df = data.copy()\n",
    "    \n",
    "    df['ocean_proximity'] = df['ocean_proximity'].replace('ISLAND','NEAR OCEAN')\n",
    "    df['rooms_per_household'] = df['total_rooms'] / df['households']\n",
    "    df['bedrooms_per_room'] = df['total_bedrooms'] / df['total_rooms']\n",
    "    df['population_per_household'] = df['population'] / df['households']\n",
    "\n",
    "    target = 'median_house_value'\n",
    "    X = df.drop(columns=target)\n",
    "    y = df[target]\n",
    "\n",
    "    X_train,X_test,y_train,y_test = train_test_split(X,y,test_size=0.3,random_state=42)\n",
    "\n",
    "    numerical_features = df.select_dtypes(include=np.number).drop(columns=target).columns\n",
    "    categorical_features = df.select_dtypes(include='object').columns\n",
    "    \n",
    "    numerical_pipeline = Pipeline([\n",
    "        ('imputer',SimpleImputer(strategy='mean')),\n",
    "        ('scaler',StandardScaler())\n",
    "    ])\n",
    "\n",
    "    catergorical_pipeline = Pipeline([\n",
    "        ('encoder',OneHotEncoder(drop='first',sparse_output=False,handle_unknown='ignore'))\n",
    "    ])\n",
    "\n",
    "    preprocessor = ColumnTransformer([\n",
    "        ('num',numerical_pipeline,numerical_features),\n",
    "        ('cat',catergorical_pipeline,categorical_features)\n",
    "    ])\n",
    "\n",
    "    model = Pipeline([\n",
    "        ('preprocessor',preprocessor),\n",
    "        ('model',LinearRegression())\n",
    "    ])\n",
    "\n",
    "    model.fit(X_train,y_train)\n",
    "\n",
    "    model_scoring(model,X_train,X_test,y_train,y_test)\n"
   ]
  },
  {
   "cell_type": "code",
   "execution_count": 54,
   "id": "9961ba06",
   "metadata": {},
   "outputs": [
    {
     "name": "stdout",
     "output_type": "stream",
     "text": [
      "Test RMSE: 68016.25\n",
      "Test R² Score: 0.6475\n",
      "\n",
      "Train RMSE: 67914.73\n",
      "Train R² Score: 0.6557\n"
     ]
    }
   ],
   "source": [
    "linear_2(df)"
   ]
  },
  {
   "cell_type": "markdown",
   "id": "121b0aab",
   "metadata": {},
   "source": [
    "#### Linear Regression - 3\n",
    "##### Imputing with Mean, Standard scaling, Category modification, Onehot encoding, New feature creation & dropping original columns after creating new features         "
   ]
  },
  {
   "cell_type": "code",
   "execution_count": 55,
   "id": "5e647c9f",
   "metadata": {},
   "outputs": [],
   "source": [
    "def linear_3(data):\n",
    "    df = data.copy()\n",
    "    \n",
    "    df['ocean_proximity'] = df['ocean_proximity'].replace('ISLAND','NEAR OCEAN')\n",
    "    df['rooms_per_household'] = df['total_rooms'] / df['households']\n",
    "    df['bedrooms_per_room'] = df['total_bedrooms'] / df['total_rooms']\n",
    "    df['population_per_household'] = df['population'] / df['households']\n",
    "\n",
    "    target_and_original = ['median_house_value','total_rooms','total_bedrooms','population']\n",
    "    target = 'median_house_value'\n",
    "    X = df.drop(columns=target_and_original)\n",
    "    y = df[target]\n",
    "\n",
    "    X_train,X_test,y_train,y_test = train_test_split(X,y,test_size=0.3,random_state=42)\n",
    "\n",
    "    numerical_features = df.select_dtypes(include=np.number).drop(columns=target_and_original).columns\n",
    "    categorical_features = df.select_dtypes(include='object').columns\n",
    "    \n",
    "    numerical_pipeline = Pipeline([\n",
    "        ('imputer',SimpleImputer(strategy='mean')),\n",
    "        ('scaler',StandardScaler())\n",
    "    ])\n",
    "\n",
    "    catergorical_pipeline = Pipeline([\n",
    "        ('encoder',OneHotEncoder(drop='first',sparse_output=False,handle_unknown='ignore'))\n",
    "    ])\n",
    "\n",
    "    preprocessor = ColumnTransformer([\n",
    "        ('num',numerical_pipeline,numerical_features),\n",
    "        ('cat',catergorical_pipeline,categorical_features)\n",
    "    ])\n",
    "\n",
    "    model = Pipeline([\n",
    "        ('preprocessor',preprocessor),\n",
    "        ('model',LinearRegression())\n",
    "    ])\n",
    "\n",
    "    model.fit(X_train,y_train)\n",
    "\n",
    "    model_scoring(model,X_train,X_test,y_train,y_test)\n"
   ]
  },
  {
   "cell_type": "code",
   "execution_count": 56,
   "id": "62e5c19a",
   "metadata": {},
   "outputs": [
    {
     "name": "stdout",
     "output_type": "stream",
     "text": [
      "Test RMSE: 70519.34\n",
      "Test R² Score: 0.6211\n",
      "\n",
      "Train RMSE: 70383.91\n",
      "Train R² Score: 0.6302\n"
     ]
    }
   ],
   "source": [
    "linear_3(df)"
   ]
  },
  {
   "cell_type": "markdown",
   "id": "0290dbc0",
   "metadata": {},
   "source": [
    "#### Linear Regression - 4\n",
    "##### Imputing with Mean, Standard scaling, Log Transform, Category modification, Onehot encoding, New feature creation & dropping original columns after creating new features    \n",
    "##### Log transform made it worse, not much of a change with and without dropping the original columns"
   ]
  },
  {
   "cell_type": "code",
   "execution_count": 105,
   "id": "c0c6100f",
   "metadata": {},
   "outputs": [],
   "source": [
    "def linear_4(data):\n",
    "    df = data.copy()\n",
    "    \n",
    "    df['ocean_proximity'] = df['ocean_proximity'].replace('ISLAND','NEAR OCEAN')\n",
    "    df['rooms_per_household'] = df['total_rooms'] / df['households']\n",
    "    df['bedrooms_per_room'] = df['total_bedrooms'] / df['total_rooms']\n",
    "    df['population_per_household'] = df['population'] / df['households']\n",
    "\n",
    "    target_and_original = ['median_house_value','total_rooms','total_bedrooms','population']\n",
    "    target = 'median_house_value'\n",
    "    X = df.drop(columns=target_and_original)\n",
    "    y = df[target]\n",
    "\n",
    "    X_train,X_test,y_train,y_test = train_test_split(X,y,test_size=0.3,random_state=42)\n",
    "\n",
    "    numerical_features = df.select_dtypes(include=np.number).drop(columns=target_and_original).columns\n",
    "    categorical_features = df.select_dtypes(include='object').columns\n",
    "\n",
    "    log_t = FunctionTransformer(func=np.log1p,inverse_func=np.expm1,validate=False)\n",
    "    \n",
    "    numerical_pipeline = Pipeline([\n",
    "        ('imputer',SimpleImputer(strategy='mean')),\n",
    "        ('scaler',StandardScaler())\n",
    "    ])\n",
    "\n",
    "    catergorical_pipeline = Pipeline([\n",
    "        ('encoder',OneHotEncoder(drop='first',sparse_output=False,handle_unknown='ignore'))\n",
    "    ])\n",
    "\n",
    "    preprocessor = ColumnTransformer([\n",
    "        ('num',numerical_pipeline,numerical_features),\n",
    "        ('cat',catergorical_pipeline,categorical_features)\n",
    "    ])\n",
    "\n",
    "    regression_pipeline = Pipeline([\n",
    "        ('preprocessor',preprocessor),\n",
    "        ('model',LinearRegression())\n",
    "    ])\n",
    "\n",
    "    full_model = TransformedTargetRegressor(\n",
    "        regressor=regression_pipeline,\n",
    "        func=log_t.transform,\n",
    "        inverse_func=log_t.inverse_transform\n",
    "    )\n",
    "\n",
    "    full_model.fit(X_train,y_train)\n",
    "\n",
    "    model_scoring(full_model,X_train,X_test,y_train,y_test)\n"
   ]
  },
  {
   "cell_type": "code",
   "execution_count": 106,
   "id": "99ba9f10",
   "metadata": {},
   "outputs": [
    {
     "name": "stdout",
     "output_type": "stream",
     "text": [
      "Test RMSE: 92930.32\n",
      "Test R² Score: 0.3420\n",
      "\n",
      "Train RMSE: 93345.42\n",
      "Train R² Score: 0.3496\n"
     ]
    }
   ],
   "source": [
    "linear_4(df)"
   ]
  },
  {
   "cell_type": "markdown",
   "id": "dac8a065",
   "metadata": {},
   "source": [
    "#### Regularized Linear Regression"
   ]
  },
  {
   "cell_type": "code",
   "execution_count": 108,
   "id": "b8358fa5",
   "metadata": {},
   "outputs": [],
   "source": [
    "def linear_regularized(data, model_type='ridge', alpha=1.0, l1_ratio=0.5):\n",
    "    df = data.copy()\n",
    "\n",
    "    # Feature engineering\n",
    "    df['ocean_proximity'] = df['ocean_proximity'].replace('ISLAND','NEAR OCEAN')\n",
    "    df['rooms_per_household'] = df['total_rooms'] / df['households']\n",
    "    df['bedrooms_per_room'] = df['total_bedrooms'] / df['total_rooms']\n",
    "    df['population_per_household'] = df['population'] / df['households']\n",
    "\n",
    "    target_and_original = ['median_house_value','total_rooms','total_bedrooms','population']\n",
    "    target = 'median_house_value'\n",
    "    X = df.drop(columns=target_and_original)\n",
    "    y = df[target]\n",
    "\n",
    "    X_train, X_test, y_train, y_test = train_test_split(X, y, test_size=0.3, random_state=42)\n",
    "\n",
    "    numerical_features = df.select_dtypes(include=np.number).drop(columns=target_and_original).columns\n",
    "    categorical_features = df.select_dtypes(include='object').columns\n",
    "\n",
    "    log_t = FunctionTransformer(func=np.log1p, inverse_func=np.expm1, validate=False)\n",
    "\n",
    "    numerical_pipeline = Pipeline([\n",
    "        ('imputer', SimpleImputer(strategy='mean')),\n",
    "        ('scaler', StandardScaler())\n",
    "    ])\n",
    "\n",
    "    catergorical_pipeline = Pipeline([\n",
    "        ('encoder', OneHotEncoder(drop='first', sparse_output=False, handle_unknown='ignore'))\n",
    "    ])\n",
    "\n",
    "    preprocessor = ColumnTransformer([\n",
    "        ('num', numerical_pipeline, numerical_features),\n",
    "        ('cat', catergorical_pipeline, categorical_features)\n",
    "    ])\n",
    "\n",
    "    # Choose regularized model\n",
    "    if model_type == 'ridge':\n",
    "        model = Ridge(alpha=alpha)\n",
    "    elif model_type == 'lasso':\n",
    "        model = Lasso(alpha=alpha)\n",
    "    elif model_type == 'elasticnet':\n",
    "        model = ElasticNet(alpha=alpha, l1_ratio=l1_ratio)\n",
    "    else:\n",
    "        raise ValueError(\"model_type must be one of 'ridge', 'lasso', or 'elasticnet'\")\n",
    "\n",
    "    regression_pipeline = Pipeline([\n",
    "        ('preprocessor',preprocessor),\n",
    "        ('model',model)\n",
    "    ])\n",
    "\n",
    "    regression_pipeline.fit(X_train,y_train)\n",
    "    \n",
    "    model_scoring(regression_pipeline,X_train,X_test,y_train,y_test)"
   ]
  },
  {
   "cell_type": "code",
   "execution_count": 110,
   "id": "8538d4fa",
   "metadata": {},
   "outputs": [
    {
     "name": "stdout",
     "output_type": "stream",
     "text": [
      "Test RMSE: 70519.12\n",
      "Test R² Score: 0.6211\n",
      "\n",
      "Train RMSE: 70383.91\n",
      "Train R² Score: 0.6302\n"
     ]
    }
   ],
   "source": [
    "linear_regularized(df, model_type='ridge', alpha=1.0, l1_ratio=0.5)"
   ]
  },
  {
   "cell_type": "code",
   "execution_count": 111,
   "id": "b1676286",
   "metadata": {},
   "outputs": [
    {
     "name": "stdout",
     "output_type": "stream",
     "text": [
      "Test RMSE: 70519.33\n",
      "Test R² Score: 0.6211\n",
      "\n",
      "Train RMSE: 70383.91\n",
      "Train R² Score: 0.6302\n"
     ]
    }
   ],
   "source": [
    "linear_regularized(df, model_type='lasso', alpha=1.0, l1_ratio=0.5)"
   ]
  },
  {
   "cell_type": "markdown",
   "id": "1110d12f",
   "metadata": {},
   "source": [
    "#### Regularized Linear Regression - GridSearchCV"
   ]
  },
  {
   "cell_type": "code",
   "execution_count": 160,
   "id": "abb2e314",
   "metadata": {},
   "outputs": [],
   "source": [
    "def linear_regularized_grid(data, model_type='ridge'):\n",
    "    df = data.copy()\n",
    "\n",
    "    # Feature engineering\n",
    "    df['ocean_proximity'] = df['ocean_proximity'].replace('ISLAND','NEAR OCEAN')\n",
    "    df['rooms_per_household'] = df['total_rooms'] / df['households']\n",
    "    df['bedrooms_per_room'] = df['total_bedrooms'] / df['total_rooms']\n",
    "    df['population_per_household'] = df['population'] / df['households']\n",
    "\n",
    "    target_and_original = ['median_house_value','total_rooms','total_bedrooms','population']\n",
    "    target = 'median_house_value'\n",
    "    X = df.drop(columns=target_and_original)\n",
    "    y = df[target]\n",
    "\n",
    "    X_train, X_test, y_train, y_test = train_test_split(X, y, test_size=0.3, random_state=42)\n",
    "\n",
    "    numerical_features = df.select_dtypes(include=np.number).drop(columns=target_and_original).columns\n",
    "    categorical_features = df.select_dtypes(include='object').columns\n",
    "\n",
    "    numerical_pipeline = Pipeline([\n",
    "        ('imputer', SimpleImputer(strategy='mean')),\n",
    "        ('scaler', StandardScaler())\n",
    "    ])\n",
    "\n",
    "    catergorical_pipeline = Pipeline([\n",
    "        ('encoder', OneHotEncoder(drop='first', sparse_output=False, handle_unknown='ignore'))\n",
    "    ])\n",
    "\n",
    "    preprocessor = ColumnTransformer([\n",
    "        ('num', numerical_pipeline, numerical_features),\n",
    "        ('cat', catergorical_pipeline, categorical_features)\n",
    "    ])\n",
    "\n",
    "    # Choose model and param grid\n",
    "    if model_type == 'ridge':\n",
    "        model = Ridge()\n",
    "        param_grid = {'model__alpha': [0.01, 0.1, 1.0, 10.0, 100.0]}\n",
    "    elif model_type == 'lasso':\n",
    "        model = Lasso(max_iter=10000)\n",
    "        param_grid = {'model__alpha': [0.001, 0.01, 0.1, 1.0, 10.0]}\n",
    "    elif model_type == 'elasticnet':\n",
    "        model = ElasticNet(max_iter=10000)\n",
    "        param_grid = {\n",
    "            'model__alpha': [0.01, 0.1, 1.0, 10.0],\n",
    "            'model__l1_ratio': [0.1, 0.5, 0.9]\n",
    "        }\n",
    "    else:\n",
    "        raise ValueError(\"model_type must be one of 'ridge', 'lasso', or 'elasticnet'\")\n",
    "\n",
    "    regresssion_pipeline = Pipeline([\n",
    "        ('preprocessor', preprocessor),\n",
    "        ('model', model)\n",
    "    ])\n",
    "\n",
    "    grid_search = GridSearchCV(regresssion_pipeline, param_grid, cv=5, scoring='neg_root_mean_squared_error')\n",
    "    grid_search.fit(X_train, y_train)\n",
    "\n",
    "    print(f\"\\nBest Parameters for {model_type}: {grid_search.best_params_}\")\n",
    "    print(f\"Best RMSE (CV): {-grid_search.best_score_:.4f}\")\n",
    "\n",
    "    best_model = grid_search.best_estimator_\n",
    "    model_scoring(best_model, X_train, X_test, y_train, y_test)\n"
   ]
  },
  {
   "cell_type": "code",
   "execution_count": 161,
   "id": "19af2c79",
   "metadata": {},
   "outputs": [
    {
     "name": "stdout",
     "output_type": "stream",
     "text": [
      "\n",
      "Best Parameters for ridge: {'model__alpha': 10.0}\n",
      "Best RMSE (CV): 70507.2428\n",
      "Test RMSE: 70517.44\n",
      "Test R² Score: 0.6211\n",
      "\n",
      "Train RMSE: 70384.31\n",
      "Train R² Score: 0.6302\n"
     ]
    }
   ],
   "source": [
    "linear_regularized_grid(df,'ridge')"
   ]
  },
  {
   "cell_type": "code",
   "execution_count": 122,
   "id": "2e925c7c",
   "metadata": {},
   "outputs": [
    {
     "name": "stdout",
     "output_type": "stream",
     "text": [
      "\n",
      "Best Parameters for lasso: {'model__alpha': 10.0}\n",
      "Best RMSE (CV): 70506.5815\n",
      "[-51513.80613399 -49592.94098594  14471.23076963   9210.09967137\n",
      "  81175.491992     9257.22359282  19016.52249349  -3883.74692501\n",
      " -36346.00828469    171.89416995   8875.58467125]\n",
      "Test RMSE: 70519.31\n",
      "Test R² Score: 0.6211\n",
      "\n",
      "Train RMSE: 70383.95\n",
      "Train R² Score: 0.6302\n"
     ]
    }
   ],
   "source": [
    "linear_regularized_grid(df,'lasso')"
   ]
  },
  {
   "cell_type": "code",
   "execution_count": 123,
   "id": "3c65b2ac",
   "metadata": {},
   "outputs": [
    {
     "name": "stdout",
     "output_type": "stream",
     "text": [
      "\n",
      "Best Parameters for elasticnet: {'model__alpha': 0.01, 'model__l1_ratio': 0.9}\n",
      "Best RMSE (CV): 70507.2218\n",
      "[-50390.31449113 -48466.12073846  14490.08523663   9228.73206814\n",
      "  81120.55332975   9197.98574121  18938.65335981  -3888.66077718\n",
      " -36853.20565761    523.39703478   9141.72186679]\n",
      "Test RMSE: 70516.82\n",
      "Test R² Score: 0.6211\n",
      "\n",
      "Train RMSE: 70384.72\n",
      "Train R² Score: 0.6302\n"
     ]
    }
   ],
   "source": [
    "linear_regularized_grid(df,'elasticnet')"
   ]
  }
 ],
 "metadata": {
  "kernelspec": {
   "display_name": "base",
   "language": "python",
   "name": "python3"
  },
  "language_info": {
   "codemirror_mode": {
    "name": "ipython",
    "version": 3
   },
   "file_extension": ".py",
   "mimetype": "text/x-python",
   "name": "python",
   "nbconvert_exporter": "python",
   "pygments_lexer": "ipython3",
   "version": "3.11.8"
  }
 },
 "nbformat": 4,
 "nbformat_minor": 5
}
